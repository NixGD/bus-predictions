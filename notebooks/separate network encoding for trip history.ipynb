{
 "cells": [
  {
   "cell_type": "code",
   "execution_count": 1,
   "id": "dental-dressing",
   "metadata": {},
   "outputs": [],
   "source": [
    "import pandas as pd\n",
    "import numpy as np\n",
    "from matplotlib import pyplot as plt\n",
    "\n",
    "plt.rcParams['figure.figsize'] = [12, 6]\n",
    "\n",
    "import random\n",
    "\n",
    "import torch\n",
    "import torch.nn as nn\n",
    "import torch.nn.functional as F\n",
    "import torch.utils.data as data\n",
    "from torch.nn.utils.rnn import pad_sequence, pack_padded_sequence, pad_packed_sequence\n",
    "\n",
    "from data_views import get_trip_and_history_tables"
   ]
  },
  {
   "cell_type": "code",
   "execution_count": 2,
   "id": "orange-vision",
   "metadata": {},
   "outputs": [
    {
     "data": {
      "text/html": [
       "<div>\n",
       "<style scoped>\n",
       "    .dataframe tbody tr th:only-of-type {\n",
       "        vertical-align: middle;\n",
       "    }\n",
       "\n",
       "    .dataframe tbody tr th {\n",
       "        vertical-align: top;\n",
       "    }\n",
       "\n",
       "    .dataframe thead th {\n",
       "        text-align: right;\n",
       "    }\n",
       "</style>\n",
       "<table border=\"1\" class=\"dataframe\">\n",
       "  <thead>\n",
       "    <tr style=\"text-align: right;\">\n",
       "      <th></th>\n",
       "      <th>current_time</th>\n",
       "      <th>headway</th>\n",
       "      <th>monday</th>\n",
       "      <th>tuesday</th>\n",
       "      <th>wednesday</th>\n",
       "      <th>thursday</th>\n",
       "      <th>friday</th>\n",
       "      <th>saturday</th>\n",
       "      <th>sunday</th>\n",
       "      <th>to_target</th>\n",
       "    </tr>\n",
       "    <tr>\n",
       "      <th>half_trip_id</th>\n",
       "      <th></th>\n",
       "      <th></th>\n",
       "      <th></th>\n",
       "      <th></th>\n",
       "      <th></th>\n",
       "      <th></th>\n",
       "      <th></th>\n",
       "      <th></th>\n",
       "      <th></th>\n",
       "      <th></th>\n",
       "    </tr>\n",
       "  </thead>\n",
       "  <tbody>\n",
       "    <tr>\n",
       "      <th>41926539.0</th>\n",
       "      <td>29209</td>\n",
       "      <td>988.0</td>\n",
       "      <td>0.0</td>\n",
       "      <td>1.0</td>\n",
       "      <td>0.0</td>\n",
       "      <td>0.0</td>\n",
       "      <td>0.0</td>\n",
       "      <td>0.0</td>\n",
       "      <td>0.0</td>\n",
       "      <td>319</td>\n",
       "    </tr>\n",
       "    <tr>\n",
       "      <th>41926541.0</th>\n",
       "      <td>34603</td>\n",
       "      <td>1430.0</td>\n",
       "      <td>0.0</td>\n",
       "      <td>1.0</td>\n",
       "      <td>0.0</td>\n",
       "      <td>0.0</td>\n",
       "      <td>0.0</td>\n",
       "      <td>0.0</td>\n",
       "      <td>0.0</td>\n",
       "      <td>443</td>\n",
       "    </tr>\n",
       "    <tr>\n",
       "      <th>41926543.0</th>\n",
       "      <td>40696</td>\n",
       "      <td>2281.0</td>\n",
       "      <td>0.0</td>\n",
       "      <td>1.0</td>\n",
       "      <td>0.0</td>\n",
       "      <td>0.0</td>\n",
       "      <td>0.0</td>\n",
       "      <td>0.0</td>\n",
       "      <td>0.0</td>\n",
       "      <td>361</td>\n",
       "    </tr>\n",
       "    <tr>\n",
       "      <th>41926545.0</th>\n",
       "      <td>47240</td>\n",
       "      <td>1268.0</td>\n",
       "      <td>0.0</td>\n",
       "      <td>1.0</td>\n",
       "      <td>0.0</td>\n",
       "      <td>0.0</td>\n",
       "      <td>0.0</td>\n",
       "      <td>0.0</td>\n",
       "      <td>0.0</td>\n",
       "      <td>487</td>\n",
       "    </tr>\n",
       "    <tr>\n",
       "      <th>41926547.0</th>\n",
       "      <td>53741</td>\n",
       "      <td>952.0</td>\n",
       "      <td>0.0</td>\n",
       "      <td>1.0</td>\n",
       "      <td>0.0</td>\n",
       "      <td>0.0</td>\n",
       "      <td>0.0</td>\n",
       "      <td>0.0</td>\n",
       "      <td>0.0</td>\n",
       "      <td>309</td>\n",
       "    </tr>\n",
       "  </tbody>\n",
       "</table>\n",
       "</div>"
      ],
      "text/plain": [
       "              current_time  headway  monday  tuesday  wednesday  thursday  \\\n",
       "half_trip_id                                                                \n",
       "41926539.0           29209    988.0     0.0      1.0        0.0       0.0   \n",
       "41926541.0           34603   1430.0     0.0      1.0        0.0       0.0   \n",
       "41926543.0           40696   2281.0     0.0      1.0        0.0       0.0   \n",
       "41926545.0           47240   1268.0     0.0      1.0        0.0       0.0   \n",
       "41926547.0           53741    952.0     0.0      1.0        0.0       0.0   \n",
       "\n",
       "              friday  saturday  sunday  to_target  \n",
       "half_trip_id                                       \n",
       "41926539.0       0.0       0.0     0.0        319  \n",
       "41926541.0       0.0       0.0     0.0        443  \n",
       "41926543.0       0.0       0.0     0.0        361  \n",
       "41926545.0       0.0       0.0     0.0        487  \n",
       "41926547.0       0.0       0.0     0.0        309  "
      ]
     },
     "execution_count": 2,
     "metadata": {},
     "output_type": "execute_result"
    }
   ],
   "source": [
    "trip_features, leg_history = get_trip_and_history_tables()\n",
    "trip_features.head()"
   ]
  },
  {
   "cell_type": "code",
   "execution_count": 3,
   "id": "brave-situation",
   "metadata": {},
   "outputs": [
    {
     "data": {
      "text/html": [
       "<div>\n",
       "<style scoped>\n",
       "    .dataframe tbody tr th:only-of-type {\n",
       "        vertical-align: middle;\n",
       "    }\n",
       "\n",
       "    .dataframe tbody tr th {\n",
       "        vertical-align: top;\n",
       "    }\n",
       "\n",
       "    .dataframe thead th {\n",
       "        text-align: right;\n",
       "    }\n",
       "</style>\n",
       "<table border=\"1\" class=\"dataframe\">\n",
       "  <thead>\n",
       "    <tr style=\"text-align: right;\">\n",
       "      <th></th>\n",
       "      <th>to_maput</th>\n",
       "      <th>to_cntsq</th>\n",
       "      <th>to_mit</th>\n",
       "      <th>to_hynes</th>\n",
       "      <th>to_masta</th>\n",
       "    </tr>\n",
       "    <tr>\n",
       "      <th>half_trip_id</th>\n",
       "      <th></th>\n",
       "      <th></th>\n",
       "      <th></th>\n",
       "      <th></th>\n",
       "      <th></th>\n",
       "    </tr>\n",
       "  </thead>\n",
       "  <tbody>\n",
       "    <tr>\n",
       "      <th>41926539.0</th>\n",
       "      <td>181</td>\n",
       "      <td>176</td>\n",
       "      <td>173</td>\n",
       "      <td>161</td>\n",
       "      <td>130</td>\n",
       "    </tr>\n",
       "    <tr>\n",
       "      <th>41926541.0</th>\n",
       "      <td>289</td>\n",
       "      <td>220</td>\n",
       "      <td>288</td>\n",
       "      <td>275</td>\n",
       "      <td>352</td>\n",
       "    </tr>\n",
       "    <tr>\n",
       "      <th>41926543.0</th>\n",
       "      <td>419</td>\n",
       "      <td>279</td>\n",
       "      <td>230</td>\n",
       "      <td>277</td>\n",
       "      <td>168</td>\n",
       "    </tr>\n",
       "    <tr>\n",
       "      <th>41926545.0</th>\n",
       "      <td>303</td>\n",
       "      <td>232</td>\n",
       "      <td>262</td>\n",
       "      <td>322</td>\n",
       "      <td>232</td>\n",
       "    </tr>\n",
       "    <tr>\n",
       "      <th>41926547.0</th>\n",
       "      <td>364</td>\n",
       "      <td>157</td>\n",
       "      <td>245</td>\n",
       "      <td>258</td>\n",
       "      <td>269</td>\n",
       "    </tr>\n",
       "  </tbody>\n",
       "</table>\n",
       "</div>"
      ],
      "text/plain": [
       "              to_maput  to_cntsq  to_mit  to_hynes  to_masta\n",
       "half_trip_id                                                \n",
       "41926539.0         181       176     173       161       130\n",
       "41926541.0         289       220     288       275       352\n",
       "41926543.0         419       279     230       277       168\n",
       "41926545.0         303       232     262       322       232\n",
       "41926547.0         364       157     245       258       269"
      ]
     },
     "execution_count": 3,
     "metadata": {},
     "output_type": "execute_result"
    }
   ],
   "source": [
    "leg_history.head()"
   ]
  },
  {
   "cell_type": "markdown",
   "id": "sensitive-rouge",
   "metadata": {},
   "source": [
    "# Loading into pytorch"
   ]
  },
  {
   "cell_type": "code",
   "execution_count": 4,
   "id": "genetic-steam",
   "metadata": {},
   "outputs": [],
   "source": [
    "target_col = \"to_target\"\n",
    "\n",
    "trip_train = trip_features.sample(frac=.7)\n",
    "trip_test = trip_features.loc[~trip_features.index.isin(trip_train.index)]\n",
    "\n",
    "y_train = trip_train.pop(target_col).to_numpy().astype('float32')\n",
    "y_test = trip_test.pop(target_col).to_numpy().astype('float32')\n",
    "\n",
    "x_trip_train = trip_train.to_numpy().astype('float32')\n",
    "x_trip_test = trip_test.to_numpy().astype('float32')"
   ]
  },
  {
   "cell_type": "code",
   "execution_count": 5,
   "id": "specified-genetics",
   "metadata": {},
   "outputs": [],
   "source": [
    "def get_normalizer(data):\n",
    "    means = data.mean(axis=0)\n",
    "    std = data.std(axis=0)\n",
    "    return lambda d: (d-means) / std\n",
    "\n",
    "normalizer = get_normalizer(x_trip_train)\n",
    "x_trip_train = normalizer(x_trip_train)\n",
    "x_trip_test = normalizer(x_trip_test)"
   ]
  },
  {
   "cell_type": "code",
   "execution_count": 6,
   "id": "native-swimming",
   "metadata": {},
   "outputs": [],
   "source": [
    "leg_history_np = leg_history.to_numpy().astype('float32')\n",
    "\n",
    "# normalize values\n",
    "leg_history_np = (leg_history_np - leg_history_np.mean()) / leg_history_np.std()\n",
    "\n",
    "hist_train = leg_history_np[trip_features.index.isin(trip_train.index)]\n",
    "hist_test = leg_history_np[~trip_features.index.isin(trip_train.index)]"
   ]
  },
  {
   "cell_type": "code",
   "execution_count": 7,
   "id": "dynamic-riverside",
   "metadata": {},
   "outputs": [],
   "source": [
    "train = data.TensorDataset(\n",
    "    torch.from_numpy(x_trip_train),\n",
    "    torch.from_numpy(hist_train),\n",
    "    torch.from_numpy(y_train).reshape(-1, 1)\n",
    ")\n",
    "\n",
    "test = data.TensorDataset(\n",
    "    torch.from_numpy(x_trip_test),\n",
    "    torch.from_numpy(hist_test),\n",
    "    torch.from_numpy(y_test).reshape(-1, 1)\n",
    ")\n",
    "\n",
    "train_dl = data.DataLoader(train, batch_size=16, shuffle=True)\n",
    "test_dl = data.DataLoader(test, batch_size=16)"
   ]
  },
  {
   "cell_type": "code",
   "execution_count": 8,
   "id": "permanent-buyer",
   "metadata": {},
   "outputs": [
    {
     "data": {
      "text/plain": [
       "(tensor([-0.9431, -0.0653, -0.4295, -0.4345, -0.4272, -0.4244,  2.3414, -0.3889,\n",
       "         -0.3199]),\n",
       " tensor([-1.2547, -1.2946, -1.3185, -1.4143, -1.6618]),\n",
       " tensor([579.]))"
      ]
     },
     "execution_count": 8,
     "metadata": {},
     "output_type": "execute_result"
    }
   ],
   "source": [
    "train[0]"
   ]
  },
  {
   "cell_type": "markdown",
   "id": "quick-special",
   "metadata": {},
   "source": [
    "# Experiments"
   ]
  },
  {
   "cell_type": "code",
   "execution_count": 9,
   "id": "dominican-scratch",
   "metadata": {},
   "outputs": [
    {
     "name": "stdout",
     "output_type": "stream",
     "text": [
      "Predictor(\n",
      "  (encoders): ModuleList(\n",
      "    (0): HistoryEncoder(\n",
      "      (fc1): Linear(in_features=1, out_features=16, bias=True)\n",
      "      (fc2): Linear(in_features=16, out_features=16, bias=True)\n",
      "      (fc3): Linear(in_features=16, out_features=3, bias=True)\n",
      "    )\n",
      "    (1): HistoryEncoder(\n",
      "      (fc1): Linear(in_features=2, out_features=16, bias=True)\n",
      "      (fc2): Linear(in_features=16, out_features=16, bias=True)\n",
      "      (fc3): Linear(in_features=16, out_features=3, bias=True)\n",
      "    )\n",
      "    (2): HistoryEncoder(\n",
      "      (fc1): Linear(in_features=3, out_features=16, bias=True)\n",
      "      (fc2): Linear(in_features=16, out_features=16, bias=True)\n",
      "      (fc3): Linear(in_features=16, out_features=3, bias=True)\n",
      "    )\n",
      "    (3): HistoryEncoder(\n",
      "      (fc1): Linear(in_features=4, out_features=16, bias=True)\n",
      "      (fc2): Linear(in_features=16, out_features=16, bias=True)\n",
      "      (fc3): Linear(in_features=16, out_features=3, bias=True)\n",
      "    )\n",
      "    (4): HistoryEncoder(\n",
      "      (fc1): Linear(in_features=5, out_features=16, bias=True)\n",
      "      (fc2): Linear(in_features=16, out_features=16, bias=True)\n",
      "      (fc3): Linear(in_features=16, out_features=3, bias=True)\n",
      "    )\n",
      "  )\n",
      "  (fc1): Linear(in_features=12, out_features=32, bias=True)\n",
      "  (fc2): Linear(in_features=32, out_features=16, bias=True)\n",
      "  (fc3): Linear(in_features=16, out_features=1, bias=True)\n",
      ")\n"
     ]
    }
   ],
   "source": [
    "class HistoryEncoder(nn.Module):\n",
    "\n",
    "    def __init__(self, num_stops, output_size):\n",
    "        super(HistoryEncoder, self).__init__()\n",
    "        self.num_stops = num_stops\n",
    "        self.output_size = output_size\n",
    "        \n",
    "        self.fc1 = nn.Linear(self.num_stops, 16)\n",
    "        self.fc2 = nn.Linear(16, 16)\n",
    "        self.fc2 = nn.Linear(16, 16)\n",
    "\n",
    "        self.fc3 = nn.Linear(16, self.output_size)\n",
    "\n",
    "    def forward(self, x):\n",
    "        x = F.relu(self.fc1(x))\n",
    "        x = F.relu(self.fc2(x))\n",
    "        x = self.fc3(x)\n",
    "        return x\n",
    "        \n",
    "class Predictor(nn.Module):\n",
    "\n",
    "    def __init__(self, min_history=1, max_history=5, encoding_size=3):\n",
    "        super(Predictor, self).__init__()\n",
    "        \n",
    "        self.min_history = min_history\n",
    "        self.max_history = max_history\n",
    "        self.encoding_size = encoding_size\n",
    "        \n",
    "        self.encoders = nn.ModuleList([\n",
    "            HistoryEncoder(i, self.encoding_size) \n",
    "            for i in range(self.min_history, self.max_history+1)\n",
    "        ])\n",
    "        \n",
    "        self.trip_input_size = 9\n",
    "        self.fc1 = nn.Linear(self.encoding_size + self.trip_input_size, 32)\n",
    "        self.fc2 = nn.Linear(32, 16)\n",
    "        self.fc3 = nn.Linear(16, 1)\n",
    "\n",
    "    def forward(self, trip, hist):\n",
    "        hist_length = hist.size()[1]\n",
    "        assert self.min_history <= hist_length <= self.max_history\n",
    "        \n",
    "        encoded_hist = self.encoders[hist_length-1](hist)\n",
    "                \n",
    "        x = torch.cat([trip, encoded_hist], axis=1)\n",
    "        x = F.relu(self.fc1(x))\n",
    "        x = F.relu(self.fc2(x))\n",
    "        x = self.fc3(x)\n",
    "        return x\n",
    "\n",
    "print(Predictor())"
   ]
  },
  {
   "cell_type": "code",
   "execution_count": 36,
   "id": "instant-transparency",
   "metadata": {},
   "outputs": [
    {
     "name": "stdout",
     "output_type": "stream",
     "text": [
      "SingleEncoder(\n",
      "  (encoder): HistoryEncoder(\n",
      "    (fc1): Linear(in_features=5, out_features=16, bias=True)\n",
      "    (fc2): Linear(in_features=16, out_features=16, bias=True)\n",
      "    (fc3): Linear(in_features=16, out_features=3, bias=True)\n",
      "  )\n",
      "  (fc1): Linear(in_features=12, out_features=32, bias=True)\n",
      "  (fc2): Linear(in_features=32, out_features=16, bias=True)\n",
      "  (fc3): Linear(in_features=16, out_features=1, bias=True)\n",
      ")\n"
     ]
    }
   ],
   "source": [
    "class SingleEncoder(nn.Module):\n",
    "    def __init__(self, encoding_size=3):\n",
    "        super(SingleEncoder, self).__init__()\n",
    "        \n",
    "        self.encoding_size = encoding_size\n",
    "        self.encoder = HistoryEncoder(5, self.encoding_size)\n",
    "        \n",
    "        self.trip_input_size = 9\n",
    "        self.fc1 = nn.Linear(self.encoding_size + self.trip_input_size, 32)\n",
    "        self.fc2 = nn.Linear(32, 16)\n",
    "        self.fc3 = nn.Linear(16, 1)\n",
    "\n",
    "    def forward(self, trip, hist):        \n",
    "        encoded_hist = self.encoder(hist)\n",
    "        x = torch.cat([trip, encoded_hist], axis=1)\n",
    "        x = F.relu(self.fc1(x))\n",
    "        x = F.relu(self.fc2(x))\n",
    "        x = self.fc3(x)\n",
    "        return x\n",
    "\n",
    "print(SingleEncoder())"
   ]
  },
  {
   "cell_type": "code",
   "execution_count": 98,
   "id": "blessed-freeware",
   "metadata": {},
   "outputs": [
    {
     "name": "stdout",
     "output_type": "stream",
     "text": [
      "NoEncoder(\n",
      "  (fc1): Linear(in_features=14, out_features=32, bias=True)\n",
      "  (fc2): Linear(in_features=32, out_features=16, bias=True)\n",
      "  (fc3): Linear(in_features=16, out_features=1, bias=True)\n",
      ")\n"
     ]
    }
   ],
   "source": [
    "class NoEncoder(nn.Module):\n",
    "    def __init__(self, hist_input_size=5):\n",
    "        super(NoEncoder, self).__init__()\n",
    "        \n",
    "        self.hist_input_size = hist_input_size\n",
    "        self.trip_input_size = 9\n",
    "        self.fc1 = nn.Linear(self.hist_input_size + self.trip_input_size, 32)\n",
    "        self.fc2 = nn.Linear(32, 16)\n",
    "        self.fc3 = nn.Linear(16, 1)\n",
    "\n",
    "    def forward(self, trip, hist):        \n",
    "        x = torch.cat([trip, hist], axis=1)\n",
    "        x = F.relu(self.fc1(x))\n",
    "        x = F.relu(self.fc2(x))\n",
    "        x = self.fc3(x)\n",
    "        return x\n",
    "\n",
    "print(NoEncoder())"
   ]
  },
  {
   "cell_type": "code",
   "execution_count": 32,
   "id": "upper-martial",
   "metadata": {},
   "outputs": [],
   "source": [
    "def run_loop(model, dl, loss_func, step=False, optimizer=None, min_history=1, max_history=5):\n",
    "    total_loss = 0\n",
    "    for trip, hist, y in dl:\n",
    "        hist_length = random.randint(min_history, max_history)\n",
    "        pred = model(trip, hist[:, :hist_length])\n",
    "        loss = loss_func(pred, y)\n",
    "\n",
    "        if step:\n",
    "            loss.backward()\n",
    "            optimizer.step()\n",
    "            optimizer.zero_grad()\n",
    "        \n",
    "        total_loss += loss\n",
    "\n",
    "    return (total_loss / len(dl)).item()"
   ]
  },
  {
   "cell_type": "code",
   "execution_count": 33,
   "id": "adapted-column",
   "metadata": {},
   "outputs": [
    {
     "name": "stdout",
     "output_type": "stream",
     "text": [
      "Epoch 0:\t training loss: 133.4\t test loss: 91.2\n",
      "Epoch 1:\t training loss: 93.3\t test loss: 93.4\n",
      "Epoch 2:\t training loss: 92.9\t test loss: 89.6\n",
      "Epoch 3:\t training loss: 92.7\t test loss: 89.1\n",
      "Epoch 4:\t training loss: 92.6\t test loss: 92.7\n",
      "Epoch 5:\t training loss: 92.4\t test loss: 86.3\n",
      "Epoch 6:\t training loss: 92.3\t test loss: 91.9\n",
      "Epoch 7:\t training loss: 92.2\t test loss: 90.8\n",
      "Epoch 8:\t training loss: 92.1\t test loss: 92.1\n",
      "Epoch 9:\t training loss: 92.0\t test loss: 91.0\n"
     ]
    }
   ],
   "source": [
    "model = Predictor()\n",
    "opt = torch.optim.Adam(model.parameters(), lr=1e-2)\n",
    "mse = nn.SmoothL1Loss(beta=100)\n",
    "\n",
    "epochs = 20\n",
    "for epoch in range(epochs):\n",
    "    model.train()\n",
    "    train_loss = run_loop(model, train_dl, mse, step=True, optimizer=opt)\n",
    "    \n",
    "    model.eval()\n",
    "    with torch.no_grad():\n",
    "        valid_loss = run_loop(model, test_dl, mse)\n",
    "\n",
    "        print(f\"Epoch {epoch}:\\t training loss: {train_loss:,.1f}\\t test loss: {valid_loss:,.1f}\")"
   ]
  },
  {
   "cell_type": "code",
   "execution_count": 54,
   "id": "understood-traveler",
   "metadata": {},
   "outputs": [
    {
     "name": "stdout",
     "output_type": "stream",
     "text": [
      "Epoch 0:\t training loss: 103.0\t test loss: 87.1\n",
      "Epoch 1:\t training loss: 94.8\t test loss: 90.5\n",
      "Epoch 2:\t training loss: 94.0\t test loss: 97.7\n",
      "Epoch 3:\t training loss: 93.1\t test loss: 90.5\n",
      "Epoch 4:\t training loss: 93.0\t test loss: 89.6\n",
      "Epoch 5:\t training loss: 84.7\t test loss: 64.7\n",
      "Epoch 6:\t training loss: 64.9\t test loss: 59.9\n",
      "Epoch 7:\t training loss: 62.1\t test loss: 59.9\n",
      "Epoch 8:\t training loss: 61.6\t test loss: 60.0\n",
      "Epoch 9:\t training loss: 60.9\t test loss: 58.4\n",
      "Epoch 10:\t training loss: 60.9\t test loss: 61.0\n",
      "Epoch 11:\t training loss: 60.6\t test loss: 60.4\n",
      "Epoch 12:\t training loss: 60.4\t test loss: 58.3\n",
      "Epoch 13:\t training loss: 60.3\t test loss: 57.7\n",
      "Epoch 14:\t training loss: 60.3\t test loss: 58.2\n"
     ]
    }
   ],
   "source": [
    "model = SingleEncoder()\n",
    "opt = torch.optim.Adam(model.parameters(), lr=1e-2)\n",
    "mse = nn.SmoothL1Loss(beta=100)\n",
    "\n",
    "epochs = 15\n",
    "for epoch in range(epochs):\n",
    "    model.train()\n",
    "    train_loss = run_loop(model, train_dl, mse, step=True, optimizer=opt, min_history=5)\n",
    "    \n",
    "    model.eval()\n",
    "    with torch.no_grad():\n",
    "        valid_loss = run_loop(model, test_dl, mse, min_history=5)\n",
    "\n",
    "        print(f\"Epoch {epoch}:\\t training loss: {train_loss:,.1f}\\t test loss: {valid_loss:,.1f}\")"
   ]
  },
  {
   "cell_type": "code",
   "execution_count": 100,
   "id": "empty-sleep",
   "metadata": {},
   "outputs": [
    {
     "name": "stdout",
     "output_type": "stream",
     "text": [
      "Epoch 0:\t training loss: 105.6\t test loss: 95.8\n",
      "Epoch 1:\t training loss: 92.9\t test loss: 88.0\n",
      "Epoch 2:\t training loss: 92.7\t test loss: 89.4\n",
      "Epoch 3:\t training loss: 93.0\t test loss: 94.7\n",
      "Epoch 4:\t training loss: 92.6\t test loss: 91.5\n",
      "Epoch 5:\t training loss: 92.6\t test loss: 89.3\n",
      "Epoch 6:\t training loss: 92.6\t test loss: 87.2\n",
      "Epoch 7:\t training loss: 92.4\t test loss: 92.0\n",
      "Epoch 8:\t training loss: 92.5\t test loss: 91.8\n",
      "Epoch 9:\t training loss: 92.6\t test loss: 88.6\n",
      "Epoch 10:\t training loss: 92.4\t test loss: 91.1\n",
      "Epoch 11:\t training loss: 92.6\t test loss: 93.0\n",
      "Epoch 12:\t training loss: 90.2\t test loss: 67.8\n",
      "Epoch 13:\t training loss: 65.9\t test loss: 61.0\n",
      "Epoch 14:\t training loss: 62.4\t test loss: 59.2\n"
     ]
    }
   ],
   "source": [
    "noEnc = NoEncoder()\n",
    "opt = torch.optim.Adam(noEnc.parameters(), lr=1e-2)\n",
    "mse = nn.SmoothL1Loss(beta=100)\n",
    "\n",
    "epochs = 15\n",
    "for epoch in range(epochs):\n",
    "    model.train()\n",
    "    train_loss = run_loop(noEnc, train_dl, mse, step=True, optimizer=opt, min_history=5)\n",
    "    \n",
    "    model.eval()\n",
    "    with torch.no_grad():\n",
    "        valid_loss = run_loop(noEnc, test_dl, mse, min_history=5)\n",
    "\n",
    "        print(f\"Epoch {epoch}:\\t training loss: {train_loss:,.1f}\\t test loss: {valid_loss:,.1f}\")"
   ]
  },
  {
   "cell_type": "code",
   "execution_count": 103,
   "id": "multiple-debut",
   "metadata": {},
   "outputs": [
    {
     "name": "stdout",
     "output_type": "stream",
     "text": [
      "Epoch 0:\t training loss: 104.8\t test loss: 87.9\n",
      "Epoch 1:\t training loss: 92.6\t test loss: 88.7\n",
      "Epoch 2:\t training loss: 92.4\t test loss: 91.8\n",
      "Epoch 3:\t training loss: 92.4\t test loss: 90.0\n",
      "Epoch 4:\t training loss: 92.6\t test loss: 90.4\n",
      "Epoch 5:\t training loss: 92.4\t test loss: 89.8\n",
      "Epoch 6:\t training loss: 92.4\t test loss: 87.8\n",
      "Epoch 7:\t training loss: 92.3\t test loss: 91.5\n",
      "Epoch 8:\t training loss: 92.3\t test loss: 89.7\n",
      "Epoch 9:\t training loss: 92.3\t test loss: 89.7\n",
      "Epoch 10:\t training loss: 92.5\t test loss: 89.4\n",
      "Epoch 11:\t training loss: 92.4\t test loss: 90.5\n",
      "Epoch 12:\t training loss: 87.7\t test loss: 68.4\n",
      "Epoch 13:\t training loss: 66.1\t test loss: 63.9\n",
      "Epoch 14:\t training loss: 64.7\t test loss: 63.7\n"
     ]
    }
   ],
   "source": [
    "oneHist = NoEncoder(hist_input_size=1)\n",
    "opt = torch.optim.Adam(oneHist.parameters(), lr=1e-2)\n",
    "mse = nn.SmoothL1Loss(beta=100)\n",
    "\n",
    "epochs = 15\n",
    "for epoch in range(epochs):\n",
    "    model.train()\n",
    "    train_loss = run_loop(oneHist, train_dl, mse, step=True, optimizer=opt, max_history=1)\n",
    "    \n",
    "    model.eval()\n",
    "    with torch.no_grad():\n",
    "        valid_loss = run_loop(oneHist, test_dl, mse, max_history=1)\n",
    "\n",
    "        print(f\"Epoch {epoch}:\\t training loss: {train_loss:,.1f}\\t test loss: {valid_loss:,.1f}\")"
   ]
  },
  {
   "cell_type": "code",
   "execution_count": 55,
   "id": "regulated-oxide",
   "metadata": {},
   "outputs": [],
   "source": [
    "def get_predictions(model, dl, length):\n",
    "    trips = []\n",
    "    preds = []\n",
    "    durations = []\n",
    "    with torch.no_grad():\n",
    "        for trip, hist, y in test_dl:\n",
    "            pred = model(trip, hist[:, :hist_length])\n",
    "            trips.append(trip)\n",
    "            preds.append(pred)\n",
    "            durations.append(y)\n",
    "    trips = torch.cat(trips)\n",
    "    preds = torch.cat(preds)\n",
    "    durations = torch.cat(durations)\n",
    "    return trips, preds, durations"
   ]
  },
  {
   "cell_type": "code",
   "execution_count": 57,
   "id": "rolled-century",
   "metadata": {},
   "outputs": [
    {
     "data": {
      "text/plain": [
       "[<matplotlib.lines.Line2D at 0x13b1ca390>]"
      ]
     },
     "execution_count": 57,
     "metadata": {},
     "output_type": "execute_result"
    },
    {
     "data": {
      "image/png": "[encoded data removed]",
      "text/plain": [
       "<Figure size 864x432 with 1 Axes>"
      ]
     },
     "metadata": {
      "needs_background": "light"
     },
     "output_type": "display_data"
    }
   ],
   "source": [
    "values = {\n",
    "    \"encoded\" : torch.Tensor()\n",
    "}\n",
    "def hook(model, input, output):\n",
    "    values[\"encoded\"] = torch.cat([values[\"encoded\"], output.detach()])\n",
    "\n",
    "hook_handle = model.encoder.register_forward_hook(hook)\n",
    "trips, preds, durations = get_predictions(model, test_dl, 5)\n",
    "\n",
    "plt.plot(durations, preds, \".k\", alpha=.2)"
   ]
  },
  {
   "cell_type": "code",
   "execution_count": 66,
   "id": "tutorial-poland",
   "metadata": {},
   "outputs": [
    {
     "data": {
      "text/plain": [
       "tensor(0.6867)"
      ]
     },
     "execution_count": 66,
     "metadata": {},
     "output_type": "execute_result"
    }
   ],
   "source": [
    "values[\"encoded\"][:, 0].min()"
   ]
  },
  {
   "cell_type": "code",
   "execution_count": null,
   "id": "approximate-screen",
   "metadata": {},
   "outputs": [],
   "source": [
    "values[\"encoded\"][:, 0]"
   ]
  },
  {
   "cell_type": "code",
   "execution_count": 69,
   "id": "martial-theology",
   "metadata": {},
   "outputs": [
    {
     "data": {
      "text/plain": [
       "Parameter containing:\n",
       "tensor([[-0.1808,  0.0336, -0.0366,  0.1682, -0.1166, -0.0040,  0.0461, -0.1905,\n",
       "          0.0842, -0.3094,  0.1473, -0.0240,  0.2187,  0.0564, -0.0434, -0.2860],\n",
       "        [ 0.0172, -0.3006,  0.0436, -0.0416, -0.0772, -0.1161,  0.2365,  0.0453,\n",
       "         -0.0278,  0.0825, -0.0355,  0.1386, -0.0303,  0.0302, -0.0396, -0.2295],\n",
       "        [-0.2330,  0.0540, -0.2173, -0.0644, -0.1239, -0.3750,  0.2764,  0.2160,\n",
       "         -0.0820,  0.0421, -0.0733, -0.0899, -0.1473, -0.2305, -0.2772, -0.2276]],\n",
       "       requires_grad=True)"
      ]
     },
     "execution_count": 69,
     "metadata": {},
     "output_type": "execute_result"
    }
   ],
   "source": [
    "model.encoder.fc3.weight"
   ]
  },
  {
   "cell_type": "code",
   "execution_count": 72,
   "id": "loved-monte",
   "metadata": {},
   "outputs": [
    {
     "data": {
      "text/plain": [
       "<All keys matched successfully>"
      ]
     },
     "execution_count": 72,
     "metadata": {},
     "output_type": "execute_result"
    }
   ],
   "source": [
    "newnet = HistoryEncoder(5, 3)\n",
    "newnet.load_state_dict(model.encoder.state_dict())\n"
   ]
  },
  {
   "cell_type": "code",
   "execution_count": 75,
   "id": "chinese-parade",
   "metadata": {},
   "outputs": [
    {
     "data": {
      "text/plain": [
       "tensor([1.2036, 0.2299, 0.2139, 0.3656, 1.0839])"
      ]
     },
     "execution_count": 75,
     "metadata": {},
     "output_type": "execute_result"
    }
   ],
   "source": [
    "hist[1]"
   ]
  },
  {
   "cell_type": "code",
   "execution_count": null,
   "id": "handy-product",
   "metadata": {},
   "outputs": [],
   "source": []
  },
  {
   "cell_type": "code",
   "execution_count": 82,
   "id": "cross-vacuum",
   "metadata": {},
   "outputs": [
    {
     "data": {
      "text/plain": [
       "tensor([0.6896, 1.3248, 0.0178], grad_fn=<AddBackward0>)"
      ]
     },
     "execution_count": 82,
     "metadata": {},
     "output_type": "execute_result"
    }
   ],
   "source": [
    "newnet(torch.Tensor([1000]*5))"
   ]
  },
  {
   "cell_type": "code",
   "execution_count": 81,
   "id": "sized-brake",
   "metadata": {},
   "outputs": [
    {
     "data": {
      "text/plain": [
       "tensor([0.6896, 1.3248, 0.0178], grad_fn=<AddBackward0>)"
      ]
     },
     "execution_count": 81,
     "metadata": {},
     "output_type": "execute_result"
    }
   ],
   "source": [
    "newnet(torch.rand(5))"
   ]
  },
  {
   "cell_type": "code",
   "execution_count": 96,
   "id": "valuable-fields",
   "metadata": {},
   "outputs": [
    {
     "ename": "AttributeError",
     "evalue": "'HistoryEncoder' object has no attribute 'fc4'",
     "output_type": "error",
     "traceback": [
      "\u001b[0;31m---------------------------------------------------------------------------\u001b[0m",
      "\u001b[0;31mAttributeError\u001b[0m                            Traceback (most recent call last)",
      "\u001b[0;32m<ipython-input-96-1ca39b1b15e9>\u001b[0m in \u001b[0;36m<module>\u001b[0;34m\u001b[0m\n\u001b[0;32m----> 1\u001b[0;31m \u001b[0mnewnet\u001b[0m\u001b[0;34m.\u001b[0m\u001b[0mfc4\u001b[0m\u001b[0;34m.\u001b[0m\u001b[0mweight\u001b[0m\u001b[0;34m\u001b[0m\u001b[0;34m\u001b[0m\u001b[0m\n\u001b[0m",
      "\u001b[0;32m~/.local/share/virtualenvs/mbta-data-ozuzx7LD/lib/python3.7/site-packages/torch/nn/modules/module.py\u001b[0m in \u001b[0;36m__getattr__\u001b[0;34m(self, name)\u001b[0m\n\u001b[1;32m    946\u001b[0m                 \u001b[0;32mreturn\u001b[0m \u001b[0mmodules\u001b[0m\u001b[0;34m[\u001b[0m\u001b[0mname\u001b[0m\u001b[0;34m]\u001b[0m\u001b[0;34m\u001b[0m\u001b[0;34m\u001b[0m\u001b[0m\n\u001b[1;32m    947\u001b[0m         raise AttributeError(\"'{}' object has no attribute '{}'\".format(\n\u001b[0;32m--> 948\u001b[0;31m             type(self).__name__, name))\n\u001b[0m\u001b[1;32m    949\u001b[0m \u001b[0;34m\u001b[0m\u001b[0m\n\u001b[1;32m    950\u001b[0m     \u001b[0;32mdef\u001b[0m \u001b[0m__setattr__\u001b[0m\u001b[0;34m(\u001b[0m\u001b[0mself\u001b[0m\u001b[0;34m,\u001b[0m \u001b[0mname\u001b[0m\u001b[0;34m:\u001b[0m \u001b[0mstr\u001b[0m\u001b[0;34m,\u001b[0m \u001b[0mvalue\u001b[0m\u001b[0;34m:\u001b[0m \u001b[0mUnion\u001b[0m\u001b[0;34m[\u001b[0m\u001b[0mTensor\u001b[0m\u001b[0;34m,\u001b[0m \u001b[0;34m'Module'\u001b[0m\u001b[0;34m]\u001b[0m\u001b[0;34m)\u001b[0m \u001b[0;34m->\u001b[0m \u001b[0;32mNone\u001b[0m\u001b[0;34m:\u001b[0m\u001b[0;34m\u001b[0m\u001b[0;34m\u001b[0m\u001b[0m\n",
      "\u001b[0;31mAttributeError\u001b[0m: 'HistoryEncoder' object has no attribute 'fc4'"
     ]
    }
   ],
   "source": [
    "newnet.fc4.weight"
   ]
  },
  {
   "cell_type": "code",
   "execution_count": 83,
   "id": "funky-period",
   "metadata": {},
   "outputs": [
    {
     "data": {
      "text/plain": [
       "tensor([-0.1069, -0.2505, -0.1643], grad_fn=<AddBackward0>)"
      ]
     },
     "execution_count": 83,
     "metadata": {},
     "output_type": "execute_result"
    }
   ],
   "source": [
    "untrained = HistoryEncoder(5, 3)"
   ]
  },
  {
   "cell_type": "code",
   "execution_count": 92,
   "id": "grave-conservation",
   "metadata": {},
   "outputs": [
    {
     "data": {
      "text/plain": [
       "tensor([ 36.3380, -54.9135,  30.7848], grad_fn=<AddBackward0>)"
      ]
     },
     "execution_count": 92,
     "metadata": {},
     "output_type": "execute_result"
    }
   ],
   "source": [
    "untrained(torch.Tensor([1000]*5))"
   ]
  },
  {
   "cell_type": "code",
   "execution_count": null,
   "id": "afraid-joshua",
   "metadata": {},
   "outputs": [],
   "source": [
    "untrained(weights)"
   ]
  },
  {
   "cell_type": "code",
   "execution_count": 71,
   "id": "found-mentor",
   "metadata": {},
   "outputs": [
    {
     "ename": "RuntimeError",
     "evalue": "Tensors must have same number of dimensions: got 2 and 1",
     "output_type": "error",
     "traceback": [
      "\u001b[0;31m---------------------------------------------------------------------------\u001b[0m",
      "\u001b[0;31mRuntimeError\u001b[0m                              Traceback (most recent call last)",
      "\u001b[0;32m<ipython-input-71-1c14e5ed94c5>\u001b[0m in \u001b[0;36m<module>\u001b[0;34m\u001b[0m\n\u001b[0;32m----> 1\u001b[0;31m \u001b[0mmodel\u001b[0m\u001b[0;34m.\u001b[0m\u001b[0mencoder\u001b[0m\u001b[0;34m(\u001b[0m\u001b[0mhist\u001b[0m\u001b[0;34m[\u001b[0m\u001b[0;36m0\u001b[0m\u001b[0;34m]\u001b[0m\u001b[0;34m)\u001b[0m\u001b[0;34m\u001b[0m\u001b[0;34m\u001b[0m\u001b[0m\n\u001b[0m",
      "\u001b[0;32m~/.local/share/virtualenvs/mbta-data-ozuzx7LD/lib/python3.7/site-packages/torch/nn/modules/module.py\u001b[0m in \u001b[0;36m_call_impl\u001b[0;34m(self, *input, **kwargs)\u001b[0m\n\u001b[1;32m    891\u001b[0m                 \u001b[0m_global_forward_hooks\u001b[0m\u001b[0;34m.\u001b[0m\u001b[0mvalues\u001b[0m\u001b[0;34m(\u001b[0m\u001b[0;34m)\u001b[0m\u001b[0;34m,\u001b[0m\u001b[0;34m\u001b[0m\u001b[0;34m\u001b[0m\u001b[0m\n\u001b[1;32m    892\u001b[0m                 self._forward_hooks.values()):\n\u001b[0;32m--> 893\u001b[0;31m             \u001b[0mhook_result\u001b[0m \u001b[0;34m=\u001b[0m \u001b[0mhook\u001b[0m\u001b[0;34m(\u001b[0m\u001b[0mself\u001b[0m\u001b[0;34m,\u001b[0m \u001b[0minput\u001b[0m\u001b[0;34m,\u001b[0m \u001b[0mresult\u001b[0m\u001b[0;34m)\u001b[0m\u001b[0;34m\u001b[0m\u001b[0;34m\u001b[0m\u001b[0m\n\u001b[0m\u001b[1;32m    894\u001b[0m             \u001b[0;32mif\u001b[0m \u001b[0mhook_result\u001b[0m \u001b[0;32mis\u001b[0m \u001b[0;32mnot\u001b[0m \u001b[0;32mNone\u001b[0m\u001b[0;34m:\u001b[0m\u001b[0;34m\u001b[0m\u001b[0;34m\u001b[0m\u001b[0m\n\u001b[1;32m    895\u001b[0m                 \u001b[0mresult\u001b[0m \u001b[0;34m=\u001b[0m \u001b[0mhook_result\u001b[0m\u001b[0;34m\u001b[0m\u001b[0;34m\u001b[0m\u001b[0m\n",
      "\u001b[0;32m<ipython-input-56-d71e2e34caa1>\u001b[0m in \u001b[0;36mhook\u001b[0;34m(model, input, output)\u001b[0m\n\u001b[1;32m      3\u001b[0m }\n\u001b[1;32m      4\u001b[0m \u001b[0;32mdef\u001b[0m \u001b[0mhook\u001b[0m\u001b[0;34m(\u001b[0m\u001b[0mmodel\u001b[0m\u001b[0;34m,\u001b[0m \u001b[0minput\u001b[0m\u001b[0;34m,\u001b[0m \u001b[0moutput\u001b[0m\u001b[0;34m)\u001b[0m\u001b[0;34m:\u001b[0m\u001b[0;34m\u001b[0m\u001b[0;34m\u001b[0m\u001b[0m\n\u001b[0;32m----> 5\u001b[0;31m     \u001b[0mvalues\u001b[0m\u001b[0;34m[\u001b[0m\u001b[0;34m\"encoded\"\u001b[0m\u001b[0;34m]\u001b[0m \u001b[0;34m=\u001b[0m \u001b[0mtorch\u001b[0m\u001b[0;34m.\u001b[0m\u001b[0mcat\u001b[0m\u001b[0;34m(\u001b[0m\u001b[0;34m[\u001b[0m\u001b[0mvalues\u001b[0m\u001b[0;34m[\u001b[0m\u001b[0;34m\"encoded\"\u001b[0m\u001b[0;34m]\u001b[0m\u001b[0;34m,\u001b[0m \u001b[0moutput\u001b[0m\u001b[0;34m.\u001b[0m\u001b[0mdetach\u001b[0m\u001b[0;34m(\u001b[0m\u001b[0;34m)\u001b[0m\u001b[0;34m]\u001b[0m\u001b[0;34m)\u001b[0m\u001b[0;34m\u001b[0m\u001b[0;34m\u001b[0m\u001b[0m\n\u001b[0m\u001b[1;32m      6\u001b[0m \u001b[0;34m\u001b[0m\u001b[0m\n\u001b[1;32m      7\u001b[0m \u001b[0mmodel\u001b[0m\u001b[0;34m.\u001b[0m\u001b[0mencoder\u001b[0m\u001b[0;34m.\u001b[0m\u001b[0mregister_forward_hook\u001b[0m\u001b[0;34m(\u001b[0m\u001b[0mhook\u001b[0m\u001b[0;34m)\u001b[0m\u001b[0;34m\u001b[0m\u001b[0;34m\u001b[0m\u001b[0m\n",
      "\u001b[0;31mRuntimeError\u001b[0m: Tensors must have same number of dimensions: got 2 and 1"
     ]
    }
   ],
   "source": [
    "model.encoder(hist[0])"
   ]
  },
  {
   "cell_type": "code",
   "execution_count": 27,
   "id": "advised-breed",
   "metadata": {},
   "outputs": [
    {
     "data": {
      "text/plain": [
       "[<matplotlib.lines.Line2D at 0x13898b910>]"
      ]
     },
     "execution_count": 27,
     "metadata": {},
     "output_type": "execute_result"
    },
    {
     "data": {
      "image/png": "[encoded data removed]",
      "text/plain": [
       "<Figure size 864x432 with 1 Axes>"
      ]
     },
     "metadata": {
      "needs_background": "light"
     },
     "output_type": "display_data"
    }
   ],
   "source": [
    "trips, preds, durations = get_predictions(model, test_dl, 1)\n",
    "plt.plot(durations, preds, \".k\", alpha=.2)"
   ]
  },
  {
   "cell_type": "code",
   "execution_count": null,
   "id": "understood-softball",
   "metadata": {},
   "outputs": [],
   "source": [
    "plt.plot(durations[hist_lengths==1], preds[hist_lengths==1], \".k\", alpha=.2)"
   ]
  },
  {
   "cell_type": "code",
   "execution_count": null,
   "id": "falling-culture",
   "metadata": {},
   "outputs": [],
   "source": [
    "plt.plot(durations[hist_lengths==5], preds[hist_lengths==5], \".k\", alpha=.2)"
   ]
  }
 ],
 "metadata": {
  "kernelspec": {
   "display_name": "Python 3",
   "language": "python",
   "name": "python3"
  },
  "language_info": {
   "codemirror_mode": {
    "name": "ipython",
    "version": 3
   },
   "file_extension": ".py",
   "mimetype": "text/x-python",
   "name": "python",
   "nbconvert_exporter": "python",
   "pygments_lexer": "ipython3",
   "version": "3.7.8"
  }
 },
 "nbformat": 4,
 "nbformat_minor": 5
}
