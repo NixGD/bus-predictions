{
 "cells": [
  {
   "cell_type": "code",
   "execution_count": 1,
   "id": "dental-dressing",
   "metadata": {},
   "outputs": [],
   "source": [
    "import pandas as pd\n",
    "import numpy as np\n",
    "from matplotlib import pyplot as plt\n",
    "\n",
    "plt.rcParams['figure.figsize'] = [12, 6]\n",
    "\n",
    "import random\n",
    "\n",
    "import torch\n",
    "import torch.nn as nn\n",
    "import torch.nn.functional as F\n",
    "import torch.utils.data as data\n",
    "from torch.nn.utils.rnn import pad_sequence, pack_padded_sequence, pad_packed_sequence\n",
    "\n",
    "from data_views import get_trip_and_history_tables"
   ]
  },
  {
   "cell_type": "code",
   "execution_count": 2,
   "id": "orange-vision",
   "metadata": {},
   "outputs": [
    {
     "data": {
      "text/html": [
       "<div>\n",
       "<style scoped>\n",
       "    .dataframe tbody tr th:only-of-type {\n",
       "        vertical-align: middle;\n",
       "    }\n",
       "\n",
       "    .dataframe tbody tr th {\n",
       "        vertical-align: top;\n",
       "    }\n",
       "\n",
       "    .dataframe thead th {\n",
       "        text-align: right;\n",
       "    }\n",
       "</style>\n",
       "<table border=\"1\" class=\"dataframe\">\n",
       "  <thead>\n",
       "    <tr style=\"text-align: right;\">\n",
       "      <th></th>\n",
       "      <th>current_time</th>\n",
       "      <th>headway</th>\n",
       "      <th>monday</th>\n",
       "      <th>tuesday</th>\n",
       "      <th>wednesday</th>\n",
       "      <th>thursday</th>\n",
       "      <th>friday</th>\n",
       "      <th>saturday</th>\n",
       "      <th>sunday</th>\n",
       "      <th>to_target</th>\n",
       "    </tr>\n",
       "    <tr>\n",
       "      <th>half_trip_id</th>\n",
       "      <th></th>\n",
       "      <th></th>\n",
       "      <th></th>\n",
       "      <th></th>\n",
       "      <th></th>\n",
       "      <th></th>\n",
       "      <th></th>\n",
       "      <th></th>\n",
       "      <th></th>\n",
       "      <th></th>\n",
       "    </tr>\n",
       "  </thead>\n",
       "  <tbody>\n",
       "    <tr>\n",
       "      <th>41926539.0</th>\n",
       "      <td>29209</td>\n",
       "      <td>988.0</td>\n",
       "      <td>0.0</td>\n",
       "      <td>1.0</td>\n",
       "      <td>0.0</td>\n",
       "      <td>0.0</td>\n",
       "      <td>0.0</td>\n",
       "      <td>0.0</td>\n",
       "      <td>0.0</td>\n",
       "      <td>319</td>\n",
       "    </tr>\n",
       "    <tr>\n",
       "      <th>41926541.0</th>\n",
       "      <td>34603</td>\n",
       "      <td>1430.0</td>\n",
       "      <td>0.0</td>\n",
       "      <td>1.0</td>\n",
       "      <td>0.0</td>\n",
       "      <td>0.0</td>\n",
       "      <td>0.0</td>\n",
       "      <td>0.0</td>\n",
       "      <td>0.0</td>\n",
       "      <td>443</td>\n",
       "    </tr>\n",
       "    <tr>\n",
       "      <th>41926543.0</th>\n",
       "      <td>40696</td>\n",
       "      <td>2281.0</td>\n",
       "      <td>0.0</td>\n",
       "      <td>1.0</td>\n",
       "      <td>0.0</td>\n",
       "      <td>0.0</td>\n",
       "      <td>0.0</td>\n",
       "      <td>0.0</td>\n",
       "      <td>0.0</td>\n",
       "      <td>361</td>\n",
       "    </tr>\n",
       "    <tr>\n",
       "      <th>41926545.0</th>\n",
       "      <td>47240</td>\n",
       "      <td>1268.0</td>\n",
       "      <td>0.0</td>\n",
       "      <td>1.0</td>\n",
       "      <td>0.0</td>\n",
       "      <td>0.0</td>\n",
       "      <td>0.0</td>\n",
       "      <td>0.0</td>\n",
       "      <td>0.0</td>\n",
       "      <td>487</td>\n",
       "    </tr>\n",
       "    <tr>\n",
       "      <th>41926547.0</th>\n",
       "      <td>53741</td>\n",
       "      <td>952.0</td>\n",
       "      <td>0.0</td>\n",
       "      <td>1.0</td>\n",
       "      <td>0.0</td>\n",
       "      <td>0.0</td>\n",
       "      <td>0.0</td>\n",
       "      <td>0.0</td>\n",
       "      <td>0.0</td>\n",
       "      <td>309</td>\n",
       "    </tr>\n",
       "  </tbody>\n",
       "</table>\n",
       "</div>"
      ],
      "text/plain": [
       "              current_time  headway  monday  tuesday  wednesday  thursday  \\\n",
       "half_trip_id                                                                \n",
       "41926539.0           29209    988.0     0.0      1.0        0.0       0.0   \n",
       "41926541.0           34603   1430.0     0.0      1.0        0.0       0.0   \n",
       "41926543.0           40696   2281.0     0.0      1.0        0.0       0.0   \n",
       "41926545.0           47240   1268.0     0.0      1.0        0.0       0.0   \n",
       "41926547.0           53741    952.0     0.0      1.0        0.0       0.0   \n",
       "\n",
       "              friday  saturday  sunday  to_target  \n",
       "half_trip_id                                       \n",
       "41926539.0       0.0       0.0     0.0        319  \n",
       "41926541.0       0.0       0.0     0.0        443  \n",
       "41926543.0       0.0       0.0     0.0        361  \n",
       "41926545.0       0.0       0.0     0.0        487  \n",
       "41926547.0       0.0       0.0     0.0        309  "
      ]
     },
     "execution_count": 2,
     "metadata": {},
     "output_type": "execute_result"
    }
   ],
   "source": [
    "trip_features, leg_history = get_trip_and_history_tables()\n",
    "trip_features.head()"
   ]
  },
  {
   "cell_type": "code",
   "execution_count": 3,
   "id": "brave-situation",
   "metadata": {},
   "outputs": [
    {
     "data": {
      "text/html": [
       "<div>\n",
       "<style scoped>\n",
       "    .dataframe tbody tr th:only-of-type {\n",
       "        vertical-align: middle;\n",
       "    }\n",
       "\n",
       "    .dataframe tbody tr th {\n",
       "        vertical-align: top;\n",
       "    }\n",
       "\n",
       "    .dataframe thead th {\n",
       "        text-align: right;\n",
       "    }\n",
       "</style>\n",
       "<table border=\"1\" class=\"dataframe\">\n",
       "  <thead>\n",
       "    <tr style=\"text-align: right;\">\n",
       "      <th></th>\n",
       "      <th>to_maput</th>\n",
       "      <th>to_cntsq</th>\n",
       "      <th>to_mit</th>\n",
       "      <th>to_hynes</th>\n",
       "      <th>to_masta</th>\n",
       "    </tr>\n",
       "    <tr>\n",
       "      <th>half_trip_id</th>\n",
       "      <th></th>\n",
       "      <th></th>\n",
       "      <th></th>\n",
       "      <th></th>\n",
       "      <th></th>\n",
       "    </tr>\n",
       "  </thead>\n",
       "  <tbody>\n",
       "    <tr>\n",
       "      <th>41926539.0</th>\n",
       "      <td>181</td>\n",
       "      <td>176</td>\n",
       "      <td>173</td>\n",
       "      <td>161</td>\n",
       "      <td>130</td>\n",
       "    </tr>\n",
       "    <tr>\n",
       "      <th>41926541.0</th>\n",
       "      <td>289</td>\n",
       "      <td>220</td>\n",
       "      <td>288</td>\n",
       "      <td>275</td>\n",
       "      <td>352</td>\n",
       "    </tr>\n",
       "    <tr>\n",
       "      <th>41926543.0</th>\n",
       "      <td>419</td>\n",
       "      <td>279</td>\n",
       "      <td>230</td>\n",
       "      <td>277</td>\n",
       "      <td>168</td>\n",
       "    </tr>\n",
       "    <tr>\n",
       "      <th>41926545.0</th>\n",
       "      <td>303</td>\n",
       "      <td>232</td>\n",
       "      <td>262</td>\n",
       "      <td>322</td>\n",
       "      <td>232</td>\n",
       "    </tr>\n",
       "    <tr>\n",
       "      <th>41926547.0</th>\n",
       "      <td>364</td>\n",
       "      <td>157</td>\n",
       "      <td>245</td>\n",
       "      <td>258</td>\n",
       "      <td>269</td>\n",
       "    </tr>\n",
       "  </tbody>\n",
       "</table>\n",
       "</div>"
      ],
      "text/plain": [
       "              to_maput  to_cntsq  to_mit  to_hynes  to_masta\n",
       "half_trip_id                                                \n",
       "41926539.0         181       176     173       161       130\n",
       "41926541.0         289       220     288       275       352\n",
       "41926543.0         419       279     230       277       168\n",
       "41926545.0         303       232     262       322       232\n",
       "41926547.0         364       157     245       258       269"
      ]
     },
     "execution_count": 3,
     "metadata": {},
     "output_type": "execute_result"
    }
   ],
   "source": [
    "leg_history.head()"
   ]
  },
  {
   "cell_type": "markdown",
   "id": "sensitive-rouge",
   "metadata": {},
   "source": [
    "# Loading into pytorch"
   ]
  },
  {
   "cell_type": "code",
   "execution_count": 4,
   "id": "genetic-steam",
   "metadata": {},
   "outputs": [],
   "source": [
    "target_col = \"to_target\"\n",
    "\n",
    "y = trip_features.pop(target_col).to_numpy().astype('float32')\n",
    "x_trip = trip_features.to_numpy().astype('float32')\n",
    "x_hist = leg_history.to_numpy().astype('float32')"
   ]
  },
  {
   "cell_type": "code",
   "execution_count": 5,
   "id": "native-swimming",
   "metadata": {},
   "outputs": [],
   "source": [
    "# Normalize values\n",
    "x_trip = (x_trip - x_trip.mean()) / x_trip.std()\n",
    "x_hist = (x_hist - x_hist.mean()) / x_hist.std()"
   ]
  },
  {
   "cell_type": "code",
   "execution_count": 7,
   "id": "dynamic-riverside",
   "metadata": {},
   "outputs": [],
   "source": [
    "alldata = data.TensorDataset(\n",
    "    torch.from_numpy(x_trip),\n",
    "    torch.from_numpy(x_hist),\n",
    "    torch.from_numpy(y).reshape(-1, 1)\n",
    ")\n",
    "\n",
    "test_size = int(0.3*len(alldata))\n",
    "train, test = data.random_split(alldata, [len(alldata)-test_size, test_size])\n",
    "\n",
    "train_dl = data.DataLoader(train, batch_size=16, shuffle=True)\n",
    "test_dl = data.DataLoader(test, batch_size=16)"
   ]
  },
  {
   "cell_type": "code",
   "execution_count": 8,
   "id": "permanent-buyer",
   "metadata": {},
   "outputs": [
    {
     "data": {
      "text/plain": [
       "(tensor([ 3.4787, -0.2941, -0.3286, -0.3286, -0.3285, -0.3286, -0.3286, -0.3286,\n",
       "         -0.3286]),\n",
       " tensor([1.3553, 0.1900, 0.4135, 3.3028, 0.4853]),\n",
       " tensor([399.]))"
      ]
     },
     "execution_count": 8,
     "metadata": {},
     "output_type": "execute_result"
    }
   ],
   "source": [
    "train[0]"
   ]
  },
  {
   "cell_type": "markdown",
   "id": "quick-special",
   "metadata": {},
   "source": [
    "# Experiments"
   ]
  },
  {
   "cell_type": "code",
   "execution_count": 9,
   "id": "dominican-scratch",
   "metadata": {},
   "outputs": [
    {
     "name": "stdout",
     "output_type": "stream",
     "text": [
      "WithEncoding(\n",
      "  (encoder): HistoryEncoder(\n",
      "    (fc1): Linear(in_features=5, out_features=32, bias=True)\n",
      "    (fc2): Linear(in_features=32, out_features=32, bias=True)\n",
      "    (fc3): Linear(in_features=32, out_features=32, bias=True)\n",
      "    (fc4): Linear(in_features=32, out_features=3, bias=True)\n",
      "  )\n",
      "  (fc1): Linear(in_features=12, out_features=32, bias=True)\n",
      "  (fc2): Linear(in_features=32, out_features=32, bias=True)\n",
      "  (fc3): Linear(in_features=32, out_features=32, bias=True)\n",
      "  (fc4): Linear(in_features=32, out_features=32, bias=True)\n",
      "  (fc5): Linear(in_features=32, out_features=1, bias=True)\n",
      ")\n",
      "NoEncoding(\n",
      "  (fc1): Linear(in_features=14, out_features=32, bias=True)\n",
      "  (fc2): Linear(in_features=32, out_features=32, bias=True)\n",
      "  (fc3): Linear(in_features=32, out_features=32, bias=True)\n",
      "  (fc4): Linear(in_features=32, out_features=32, bias=True)\n",
      "  (fc5): Linear(in_features=32, out_features=1, bias=True)\n",
      ")\n"
     ]
    }
   ],
   "source": [
    "class HistoryEncoder(nn.Module):\n",
    "\n",
    "    def __init__(self, num_stops, output_size):\n",
    "        super(HistoryEncoder, self).__init__()\n",
    "        self.num_stops = num_stops\n",
    "        self.output_size = output_size\n",
    "        \n",
    "        self.fc1 = nn.Linear(self.num_stops, 32)\n",
    "        self.fc2 = nn.Linear(32, 32)\n",
    "        self.fc3 = nn.Linear(32, 32)\n",
    "        self.fc4 = nn.Linear(32, self.output_size)\n",
    "\n",
    "    def forward(self, x):\n",
    "        x = F.relu(self.fc1(x))\n",
    "        x = F.relu(self.fc2(x))\n",
    "        x = F.relu(self.fc3(x))\n",
    "        x = self.fc4(x)\n",
    "        return x\n",
    "        \n",
    "class WithEncoding(nn.Module):\n",
    "    def __init__(self, encoding_size=3):\n",
    "        super(WithEncoding, self).__init__()\n",
    "        \n",
    "        self.encoding_size = encoding_size\n",
    "        self.encoder = HistoryEncoder(5, self.encoding_size)\n",
    "        \n",
    "        self.trip_input_size = 9\n",
    "        self.fc1 = nn.Linear(self.encoding_size + self.trip_input_size, 32)\n",
    "        self.fc2 = nn.Linear(32, 32)\n",
    "        self.fc3 = nn.Linear(32, 32)\n",
    "        self.fc4 = nn.Linear(32, 32)\n",
    "        self.fc5 = nn.Linear(32, 1)\n",
    "\n",
    "    def forward(self, trip, hist):        \n",
    "        encoded_hist = self.encoder(hist)\n",
    "        x = torch.cat([trip, encoded_hist], axis=1)\n",
    "        x = F.relu(self.fc1(x))\n",
    "        x = F.relu(self.fc2(x))\n",
    "        x = F.relu(self.fc3(x))\n",
    "        x = F.relu(self.fc4(x))\n",
    "        x = self.fc5(x)\n",
    "        return x\n",
    "    \n",
    "class NoEncoding(nn.Module):\n",
    "    def __init__(self):\n",
    "        super(NoEncoding, self).__init__()\n",
    "        \n",
    "        self.hist_input_size = 5\n",
    "        self.trip_input_size = 9\n",
    "        self.fc1 = nn.Linear(self.hist_input_size + self.trip_input_size, 32)\n",
    "        self.fc2 = nn.Linear(32, 32)\n",
    "        self.fc3 = nn.Linear(32, 32)\n",
    "        self.fc4 = nn.Linear(32, 32)\n",
    "        self.fc5 = nn.Linear(32, 1)\n",
    "\n",
    "    def forward(self, trip, hist):        \n",
    "        x = torch.cat([trip, hist], axis=1)\n",
    "        x = F.relu(self.fc1(x))\n",
    "        x = F.relu(self.fc2(x))\n",
    "        x = F.relu(self.fc3(x))\n",
    "        x = F.relu(self.fc4(x))\n",
    "        x = self.fc5(x)\n",
    "        return x\n",
    "\n",
    "print(WithEncoding())\n",
    "print(NoEncoding())"
   ]
  },
  {
   "cell_type": "code",
   "execution_count": 33,
   "id": "upper-martial",
   "metadata": {},
   "outputs": [],
   "source": [
    "def run_loop(model, dl, loss_func, step=False, optimizer=None):\n",
    "    total_loss = 0\n",
    "    for trip, hist, y in dl:\n",
    "        pred = model(trip, hist)\n",
    "        loss = loss_func(pred, y)\n",
    "\n",
    "        if step:\n",
    "            loss.backward()\n",
    "            optimizer.step()\n",
    "            optimizer.zero_grad()\n",
    "        \n",
    "        total_loss += loss\n",
    "\n",
    "    return (total_loss / len(dl)).item()\n",
    "\n",
    "def run_experiment(encoding = False, loss=nn.MSELoss(), lr=1e-2, epochs=20):\n",
    "    model = WithEncoding() if encoding else NoEncoding()\n",
    "    opt = torch.optim.Adam(model.parameters(), lr=lr)\n",
    "    \n",
    "    for epoch in range(epochs):\n",
    "        model.train()\n",
    "        train_loss = run_loop(model, train_dl, loss, step=True, optimizer=opt)\n",
    "\n",
    "        model.eval()\n",
    "        with torch.no_grad():\n",
    "            valid_loss = run_loop(model, test_dl, loss)\n",
    "\n",
    "        print(f\"Epoch {epoch}:\\t training loss: {train_loss:,.1f}\\t test loss: {valid_loss:,.1f}\")\n",
    "    return model"
   ]
  },
  {
   "cell_type": "code",
   "execution_count": 34,
   "id": "activated-camcorder",
   "metadata": {},
   "outputs": [
    {
     "name": "stdout",
     "output_type": "stream",
     "text": [
      "Epoch 0:\t training loss: 47,987.1\t test loss: 41,412.2\n",
      "Epoch 1:\t training loss: 41,426.6\t test loss: 35,047.9\n",
      "Epoch 2:\t training loss: 40,274.1\t test loss: 36,966.0\n",
      "Epoch 3:\t training loss: 40,109.3\t test loss: 37,720.4\n",
      "Epoch 4:\t training loss: 39,685.1\t test loss: 34,723.6\n",
      "Epoch 5:\t training loss: 39,116.5\t test loss: 34,484.9\n",
      "Epoch 6:\t training loss: 39,191.8\t test loss: 34,980.0\n",
      "Epoch 7:\t training loss: 38,994.4\t test loss: 40,629.5\n",
      "Epoch 8:\t training loss: 39,362.0\t test loss: 36,678.7\n",
      "Epoch 9:\t training loss: 39,219.5\t test loss: 35,240.1\n",
      "Epoch 10:\t training loss: 39,755.9\t test loss: 36,376.6\n",
      "Epoch 11:\t training loss: 38,995.6\t test loss: 35,219.7\n",
      "Epoch 12:\t training loss: 38,986.9\t test loss: 35,681.9\n",
      "Epoch 13:\t training loss: 38,885.2\t test loss: 35,290.4\n",
      "Epoch 14:\t training loss: 38,894.1\t test loss: 35,789.7\n",
      "Epoch 15:\t training loss: 39,126.4\t test loss: 35,601.8\n",
      "Epoch 16:\t training loss: 39,543.8\t test loss: 35,484.9\n",
      "Epoch 17:\t training loss: 39,271.5\t test loss: 35,632.8\n",
      "Epoch 18:\t training loss: 38,917.0\t test loss: 35,060.6\n",
      "Epoch 19:\t training loss: 38,914.3\t test loss: 34,532.7\n"
     ]
    }
   ],
   "source": [
    "enc = run_experiment(encoding=True)"
   ]
  },
  {
   "cell_type": "code",
   "execution_count": null,
   "id": "binary-context",
   "metadata": {},
   "outputs": [],
   "source": [
    "enc = run_experiment(encoding=True)"
   ]
  },
  {
   "cell_type": "code",
   "execution_count": 16,
   "id": "intense-disaster",
   "metadata": {},
   "outputs": [
    {
     "name": "stdout",
     "output_type": "stream",
     "text": [
      "Epoch 0:\t training loss: 101.3\t test loss: 72.1\n",
      "Epoch 1:\t training loss: 74.0\t test loss: 70.9\n",
      "Epoch 2:\t training loss: 73.5\t test loss: 70.3\n",
      "Epoch 3:\t training loss: 73.2\t test loss: 72.2\n",
      "Epoch 4:\t training loss: 73.1\t test loss: 70.2\n",
      "Epoch 5:\t training loss: 72.8\t test loss: 70.0\n",
      "Epoch 6:\t training loss: 73.0\t test loss: 72.7\n",
      "Epoch 7:\t training loss: 72.7\t test loss: 70.5\n",
      "Epoch 8:\t training loss: 72.4\t test loss: 69.8\n",
      "Epoch 9:\t training loss: 72.1\t test loss: 70.6\n",
      "Epoch 10:\t training loss: 70.2\t test loss: 67.6\n",
      "Epoch 11:\t training loss: 68.8\t test loss: 65.7\n",
      "Epoch 12:\t training loss: 67.8\t test loss: 64.5\n",
      "Epoch 13:\t training loss: 67.1\t test loss: 65.8\n",
      "Epoch 14:\t training loss: 66.6\t test loss: 63.7\n",
      "Epoch 15:\t training loss: 66.2\t test loss: 64.2\n",
      "Epoch 16:\t training loss: 66.1\t test loss: 63.7\n",
      "Epoch 17:\t training loss: 65.7\t test loss: 63.4\n",
      "Epoch 18:\t training loss: 65.7\t test loss: 63.5\n",
      "Epoch 19:\t training loss: 65.7\t test loss: 64.7\n",
      "Epoch 20:\t training loss: 65.6\t test loss: 63.0\n",
      "Epoch 21:\t training loss: 65.6\t test loss: 62.8\n",
      "Epoch 22:\t training loss: 65.4\t test loss: 62.9\n",
      "Epoch 23:\t training loss: 65.3\t test loss: 63.1\n",
      "Epoch 24:\t training loss: 65.2\t test loss: 64.2\n",
      "Epoch 25:\t training loss: 65.1\t test loss: 64.2\n",
      "Epoch 26:\t training loss: 65.2\t test loss: 62.8\n",
      "Epoch 27:\t training loss: 65.1\t test loss: 62.8\n",
      "Epoch 28:\t training loss: 65.1\t test loss: 62.9\n",
      "Epoch 29:\t training loss: 64.9\t test loss: 63.5\n",
      "Epoch 30:\t training loss: 65.1\t test loss: 67.0\n",
      "Epoch 31:\t training loss: 64.9\t test loss: 62.8\n",
      "Epoch 32:\t training loss: 65.0\t test loss: 64.6\n",
      "Epoch 33:\t training loss: 64.8\t test loss: 63.1\n",
      "Epoch 34:\t training loss: 64.9\t test loss: 66.1\n",
      "Epoch 35:\t training loss: 64.8\t test loss: 62.7\n",
      "Epoch 36:\t training loss: 64.4\t test loss: 62.8\n",
      "Epoch 37:\t training loss: 64.5\t test loss: 64.4\n",
      "Epoch 38:\t training loss: 64.4\t test loss: 63.3\n",
      "Epoch 39:\t training loss: 64.2\t test loss: 63.0\n",
      "Epoch 40:\t training loss: 64.2\t test loss: 62.6\n",
      "Epoch 41:\t training loss: 63.8\t test loss: 64.0\n",
      "Epoch 42:\t training loss: 64.1\t test loss: 62.3\n",
      "Epoch 43:\t training loss: 63.9\t test loss: 62.7\n",
      "Epoch 44:\t training loss: 63.7\t test loss: 62.3\n",
      "Epoch 45:\t training loss: 63.8\t test loss: 62.2\n",
      "Epoch 46:\t training loss: 63.7\t test loss: 65.8\n",
      "Epoch 47:\t training loss: 63.5\t test loss: 62.4\n",
      "Epoch 48:\t training loss: 63.6\t test loss: 63.0\n",
      "Epoch 49:\t training loss: 63.6\t test loss: 62.9\n",
      "Epoch 50:\t training loss: 63.4\t test loss: 62.9\n",
      "Epoch 51:\t training loss: 63.5\t test loss: 63.8\n",
      "Epoch 52:\t training loss: 63.5\t test loss: 62.1\n",
      "Epoch 53:\t training loss: 63.3\t test loss: 62.4\n",
      "Epoch 54:\t training loss: 63.2\t test loss: 62.3\n",
      "Epoch 55:\t training loss: 63.1\t test loss: 62.4\n",
      "Epoch 56:\t training loss: 63.1\t test loss: 62.2\n",
      "Epoch 57:\t training loss: 63.1\t test loss: 63.0\n",
      "Epoch 58:\t training loss: 62.9\t test loss: 61.9\n",
      "Epoch 59:\t training loss: 62.9\t test loss: 62.7\n",
      "Epoch 60:\t training loss: 62.9\t test loss: 62.1\n",
      "Epoch 61:\t training loss: 62.8\t test loss: 62.6\n",
      "Epoch 62:\t training loss: 62.6\t test loss: 64.2\n",
      "Epoch 63:\t training loss: 62.7\t test loss: 62.3\n",
      "Epoch 64:\t training loss: 62.6\t test loss: 62.4\n",
      "Epoch 65:\t training loss: 62.6\t test loss: 61.9\n",
      "Epoch 66:\t training loss: 62.6\t test loss: 61.8\n",
      "Epoch 67:\t training loss: 62.4\t test loss: 62.5\n",
      "Epoch 68:\t training loss: 62.5\t test loss: 62.8\n",
      "Epoch 69:\t training loss: 62.3\t test loss: 62.1\n",
      "Epoch 70:\t training loss: 62.4\t test loss: 62.7\n",
      "Epoch 71:\t training loss: 62.3\t test loss: 63.0\n",
      "Epoch 72:\t training loss: 62.3\t test loss: 62.0\n",
      "Epoch 73:\t training loss: 62.2\t test loss: 61.9\n",
      "Epoch 74:\t training loss: 62.2\t test loss: 62.5\n",
      "Epoch 75:\t training loss: 62.1\t test loss: 61.8\n",
      "Epoch 76:\t training loss: 62.0\t test loss: 61.8\n",
      "Epoch 77:\t training loss: 62.0\t test loss: 61.7\n",
      "Epoch 78:\t training loss: 62.0\t test loss: 61.9\n",
      "Epoch 79:\t training loss: 61.7\t test loss: 62.2\n",
      "Epoch 80:\t training loss: 61.9\t test loss: 62.7\n",
      "Epoch 81:\t training loss: 61.8\t test loss: 62.3\n",
      "Epoch 82:\t training loss: 61.8\t test loss: 62.0\n",
      "Epoch 83:\t training loss: 61.7\t test loss: 62.8\n",
      "Epoch 84:\t training loss: 61.7\t test loss: 61.9\n",
      "Epoch 85:\t training loss: 61.5\t test loss: 63.4\n",
      "Epoch 86:\t training loss: 61.6\t test loss: 62.0\n",
      "Epoch 87:\t training loss: 61.5\t test loss: 63.4\n",
      "Epoch 88:\t training loss: 61.5\t test loss: 62.6\n",
      "Epoch 89:\t training loss: 61.5\t test loss: 62.1\n",
      "Epoch 90:\t training loss: 61.5\t test loss: 62.9\n",
      "Epoch 91:\t training loss: 61.4\t test loss: 62.4\n",
      "Epoch 92:\t training loss: 61.4\t test loss: 61.9\n",
      "Epoch 93:\t training loss: 61.4\t test loss: 62.3\n",
      "Epoch 94:\t training loss: 61.1\t test loss: 62.6\n",
      "Epoch 95:\t training loss: 61.3\t test loss: 62.2\n",
      "Epoch 96:\t training loss: 61.3\t test loss: 62.5\n",
      "Epoch 97:\t training loss: 61.1\t test loss: 62.9\n",
      "Epoch 98:\t training loss: 61.2\t test loss: 62.3\n",
      "Epoch 99:\t training loss: 61.0\t test loss: 65.4\n"
     ]
    }
   ],
   "source": [
    "enc = run_experiment(encoding=True, lr=1e-3, epochs=100)"
   ]
  },
  {
   "cell_type": "code",
   "execution_count": 17,
   "id": "together-solid",
   "metadata": {},
   "outputs": [],
   "source": [
    "trip, hist, y = next(iter(test_dl))"
   ]
  },
  {
   "cell_type": "code",
   "execution_count": 18,
   "id": "saved-martin",
   "metadata": {},
   "outputs": [
    {
     "data": {
      "text/plain": [
       "tensor([[ 3.6558e-01, -6.4011e-01,  4.7732e-01,  7.0256e-02,  8.6842e-01],\n",
       "        [ 1.0041e+00, -9.5937e-01,  1.9796e-01, -3.4479e-01, -1.5786e-03],\n",
       "        [ 9.4025e-01,  2.9374e-01,  5.8906e-01,  1.6825e+00, -4.1487e-02],\n",
       "        [-5.6827e-01, -8.9376e-02, -4.3259e-01, -4.3259e-01, -3.8470e-01],\n",
       "        [-3.9268e-01, -9.1148e-01, -1.1669e+00, -1.0392e+00,  8.6219e-02],\n",
       "        [ 4.7732e-01, -1.0392e+00, -2.9690e-01, -2.0910e-01, -4.4057e-01],\n",
       "        [ 8.6044e-01,  3.9750e-01,  3.7356e-01,  7.2475e-01,  2.1455e+00],\n",
       "        [-6.2414e-01, -1.2148e+00, -1.0631e+00, -4.6451e-01, -4.7249e-01],\n",
       "        [ 1.5805e-01, -2.1708e-01, -4.0066e-01, -1.2130e-01,  4.3741e-01],\n",
       "        [ 1.3154e+00,  4.4539e-01,  7.8860e-01,  3.3746e+00,  1.3234e+00],\n",
       "        [-7.6781e-01, -1.4063e+00, -5.8424e-01, -1.6538e+00, -1.1270e+00],\n",
       "        [-1.4525e-01,  2.3787e-01, -8.4763e-01,  6.3695e-01, -1.8516e-01],\n",
       "        [-1.7717e-01, -4.1487e-02,  7.9658e-01, -5.6827e-01, -3.1286e-01],\n",
       "        [ 1.4271e+00, -5.2038e-01,  5.4293e-02,  7.0080e-01,  5.3319e-01],\n",
       "        [-5.7450e-02,  1.0218e-01,  2.2989e-01,  6.1301e-01,  6.2897e-01],\n",
       "        [ 1.8200e-01, -3.3505e-02, -8.0772e-01,  3.0172e-01, -1.5786e-03]])"
      ]
     },
     "execution_count": 18,
     "metadata": {},
     "output_type": "execute_result"
    }
   ],
   "source": [
    "hist"
   ]
  },
  {
   "cell_type": "code",
   "execution_count": null,
   "id": "chief-coordination",
   "metadata": {},
   "outputs": [],
   "source": [
    "with torch.no_grad():\n",
    "    pred = noenc(trip, hist)\n",
    "    pred_with_bad_hist = noenc(trip, torch.rand((16,5)))\n",
    "    plt.plot(pred, pred_with_bad_hist, \".k\")"
   ]
  },
  {
   "cell_type": "code",
   "execution_count": 19,
   "id": "british-freeze",
   "metadata": {},
   "outputs": [
    {
     "data": {
      "image/png": "[encoded data removed]",
      "text/plain": [
       "<Figure size 864x432 with 1 Axes>"
      ]
     },
     "metadata": {
      "needs_background": "light"
     },
     "output_type": "display_data"
    }
   ],
   "source": [
    "with torch.no_grad():\n",
    "    pred = enc(trip, hist)\n",
    "    pred_with_bad_hist = enc(trip, torch.rand((16,5)))\n",
    "    plt.plot(pred, pred_with_bad_hist, \".k\")"
   ]
  },
  {
   "cell_type": "code",
   "execution_count": 31,
   "id": "complimentary-multiple",
   "metadata": {},
   "outputs": [
    {
     "name": "stdout",
     "output_type": "stream",
     "text": [
      "36072.51953125\n"
     ]
    }
   ],
   "source": [
    "with torch.no_grad():\n",
    "    print(run_loop(enc, test_dl, nn.MSELoss()))\n"
   ]
  },
  {
   "cell_type": "code",
   "execution_count": 21,
   "id": "educated-dealing",
   "metadata": {},
   "outputs": [
    {
     "data": {
      "text/plain": [
       "[<matplotlib.lines.Line2D at 0x13aa99550>]"
      ]
     },
     "execution_count": 21,
     "metadata": {},
     "output_type": "execute_result"
    },
    {
     "data": {
      "image/png": "[encoded data removed]",
      "text/plain": [
       "<Figure size 864x432 with 1 Axes>"
      ]
     },
     "metadata": {
      "needs_background": "light"
     },
     "output_type": "display_data"
    }
   ],
   "source": [
    "plt.plot(y, pred_with_bad_hist, \".k\")"
   ]
  },
  {
   "cell_type": "code",
   "execution_count": null,
   "id": "advised-breed",
   "metadata": {},
   "outputs": [],
   "source": []
  },
  {
   "cell_type": "code",
   "execution_count": null,
   "id": "understood-softball",
   "metadata": {},
   "outputs": [],
   "source": [
    "plt.plot(durations[hist_lengths==1], preds[hist_lengths==1], \".k\", alpha=.2)"
   ]
  },
  {
   "cell_type": "code",
   "execution_count": null,
   "id": "falling-culture",
   "metadata": {},
   "outputs": [],
   "source": [
    "plt.plot(durations[hist_lengths==5], preds[hist_lengths==5], \".k\", alpha=.2)"
   ]
  },
  {
   "cell_type": "code",
   "execution_count": 24,
   "id": "mature-croatia",
   "metadata": {},
   "outputs": [],
   "source": [
    "def get_predictions(model, dl):\n",
    "    trips = []\n",
    "    preds = []\n",
    "    durations = []\n",
    "    with torch.no_grad():\n",
    "        for trip, hist, y in dl:\n",
    "            pred = model(trip, hist)\n",
    "            trips.append(trip)\n",
    "            preds.append(pred)\n",
    "            durations.append(y)\n",
    "    trips = torch.cat(trips)\n",
    "    preds = torch.cat(preds)\n",
    "    durations = torch.cat(durations)\n",
    "    return trips, preds, durations\n",
    "\n",
    "trips, preds, durations = get_predictions(enc, test_dl)"
   ]
  },
  {
   "cell_type": "code",
   "execution_count": 25,
   "id": "spoken-debate",
   "metadata": {},
   "outputs": [
    {
     "data": {
      "text/plain": [
       "[<matplotlib.lines.Line2D at 0x13a304f10>]"
      ]
     },
     "execution_count": 25,
     "metadata": {},
     "output_type": "execute_result"
    },
    {
     "data": {
      "image/png": "[encoded data removed]",
      "text/plain": [
       "<Figure size 864x432 with 1 Axes>"
      ]
     },
     "metadata": {
      "needs_background": "light"
     },
     "output_type": "display_data"
    }
   ],
   "source": [
    "plt.plot(durations, preds, \".k\", alpha=.2)"
   ]
  },
  {
   "cell_type": "markdown",
   "id": "numeric-headquarters",
   "metadata": {},
   "source": [
    "for enc with huburt(beta=100):\n",
    "  r^2 = 0.2684277346564258\n",
    "  mse = 36072.51953125\n"
   ]
  },
  {
   "cell_type": "code",
   "execution_count": 29,
   "id": "annoying-pottery",
   "metadata": {},
   "outputs": [
    {
     "data": {
      "text/plain": [
       "0.2684277346564258"
      ]
     },
     "execution_count": 29,
     "metadata": {},
     "output_type": "execute_result"
    }
   ],
   "source": [
    "np.corrcoef(durations.flatten(), preds.flatten())[0,1]**2"
   ]
  },
  {
   "cell_type": "code",
   "execution_count": 27,
   "id": "extra-canada",
   "metadata": {},
   "outputs": [
    {
     "data": {
      "text/plain": [
       "tensor([[ 603.],\n",
       "        [ 426.],\n",
       "        [ 451.],\n",
       "        ...,\n",
       "        [ 150.],\n",
       "        [1175.],\n",
       "        [ 612.]])"
      ]
     },
     "execution_count": 27,
     "metadata": {},
     "output_type": "execute_result"
    }
   ],
   "source": [
    "durations"
   ]
  }
 ],
 "metadata": {
  "kernelspec": {
   "display_name": "Python 3",
   "language": "python",
   "name": "python3"
  },
  "language_info": {
   "codemirror_mode": {
    "name": "ipython",
    "version": 3
   },
   "file_extension": ".py",
   "mimetype": "text/x-python",
   "name": "python",
   "nbconvert_exporter": "python",
   "pygments_lexer": "ipython3",
   "version": "3.7.8"
  }
 },
 "nbformat": 4,
 "nbformat_minor": 5
}
